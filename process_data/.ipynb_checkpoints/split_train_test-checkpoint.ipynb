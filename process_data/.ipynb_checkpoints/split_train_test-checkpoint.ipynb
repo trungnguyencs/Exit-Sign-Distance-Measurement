{
 "cells": [
  {
   "cell_type": "code",
   "execution_count": 25,
   "metadata": {},
   "outputs": [],
   "source": [
    "import numpy as np\n",
    "import pandas as pd\n",
    "np.random.seed(1)"
   ]
  },
  {
   "cell_type": "code",
   "execution_count": 26,
   "metadata": {},
   "outputs": [],
   "source": [
    "INPUT_CSV = '../data/csv/quadrilateral-1787.csv'\n",
    "OUTPUT_TRAIN = '../data/csv/quadrilateral-train.csv'\n",
    "OUTPUT_TEST = '../data/csv/quadrilateral-test.csv'"
   ]
  },
  {
   "cell_type": "code",
   "execution_count": 27,
   "metadata": {},
   "outputs": [],
   "source": [
    "full_labels = pd.read_csv(INPUT_CSV)"
   ]
  },
  {
   "cell_type": "code",
   "execution_count": 28,
   "metadata": {},
   "outputs": [
    {
     "data": {
      "text/html": [
       "<div>\n",
       "<style scoped>\n",
       "    .dataframe tbody tr th:only-of-type {\n",
       "        vertical-align: middle;\n",
       "    }\n",
       "\n",
       "    .dataframe tbody tr th {\n",
       "        vertical-align: top;\n",
       "    }\n",
       "\n",
       "    .dataframe thead th {\n",
       "        text-align: right;\n",
       "    }\n",
       "</style>\n",
       "<table border=\"1\" class=\"dataframe\">\n",
       "  <thead>\n",
       "    <tr style=\"text-align: right;\">\n",
       "      <th></th>\n",
       "      <th>class</th>\n",
       "      <th>distance</th>\n",
       "      <th>filename</th>\n",
       "      <th>height</th>\n",
       "      <th>width</th>\n",
       "      <th>xmax</th>\n",
       "      <th>xmin</th>\n",
       "      <th>ymax</th>\n",
       "      <th>ymin</th>\n",
       "    </tr>\n",
       "  </thead>\n",
       "  <tbody>\n",
       "    <tr>\n",
       "      <th>0</th>\n",
       "      <td>Exit_sign</td>\n",
       "      <td>6.760682</td>\n",
       "      <td>263373.0215845.jpg</td>\n",
       "      <td>640</td>\n",
       "      <td>360</td>\n",
       "      <td>133</td>\n",
       "      <td>107</td>\n",
       "      <td>449</td>\n",
       "      <td>418</td>\n",
       "    </tr>\n",
       "    <tr>\n",
       "      <th>1</th>\n",
       "      <td>Exit_sign</td>\n",
       "      <td>6.427250</td>\n",
       "      <td>263373.121640958.jpg</td>\n",
       "      <td>640</td>\n",
       "      <td>360</td>\n",
       "      <td>142</td>\n",
       "      <td>115</td>\n",
       "      <td>449</td>\n",
       "      <td>418</td>\n",
       "    </tr>\n",
       "    <tr>\n",
       "      <th>2</th>\n",
       "      <td>Exit_sign</td>\n",
       "      <td>6.923835</td>\n",
       "      <td>263373.221697375.jpg</td>\n",
       "      <td>640</td>\n",
       "      <td>360</td>\n",
       "      <td>154</td>\n",
       "      <td>128</td>\n",
       "      <td>459</td>\n",
       "      <td>428</td>\n",
       "    </tr>\n",
       "    <tr>\n",
       "      <th>3</th>\n",
       "      <td>Exit_sign</td>\n",
       "      <td>5.960842</td>\n",
       "      <td>263373.321754.jpg</td>\n",
       "      <td>640</td>\n",
       "      <td>360</td>\n",
       "      <td>160</td>\n",
       "      <td>133</td>\n",
       "      <td>452</td>\n",
       "      <td>420</td>\n",
       "    </tr>\n",
       "    <tr>\n",
       "      <th>4</th>\n",
       "      <td>Exit_sign</td>\n",
       "      <td>6.382097</td>\n",
       "      <td>263373.421810291.jpg</td>\n",
       "      <td>640</td>\n",
       "      <td>360</td>\n",
       "      <td>173</td>\n",
       "      <td>145</td>\n",
       "      <td>442</td>\n",
       "      <td>410</td>\n",
       "    </tr>\n",
       "  </tbody>\n",
       "</table>\n",
       "</div>"
      ],
      "text/plain": [
       "       class  distance              filename  height  width  xmax  xmin  ymax  \\\n",
       "0  Exit_sign  6.760682    263373.0215845.jpg     640    360   133   107   449   \n",
       "1  Exit_sign  6.427250  263373.121640958.jpg     640    360   142   115   449   \n",
       "2  Exit_sign  6.923835  263373.221697375.jpg     640    360   154   128   459   \n",
       "3  Exit_sign  5.960842     263373.321754.jpg     640    360   160   133   452   \n",
       "4  Exit_sign  6.382097  263373.421810291.jpg     640    360   173   145   442   \n",
       "\n",
       "   ymin  \n",
       "0   418  \n",
       "1   418  \n",
       "2   428  \n",
       "3   420  \n",
       "4   410  "
      ]
     },
     "execution_count": 28,
     "metadata": {},
     "output_type": "execute_result"
    }
   ],
   "source": [
    "full_labels.head()"
   ]
  },
  {
   "cell_type": "code",
   "execution_count": 29,
   "metadata": {},
   "outputs": [
    {
     "name": "stdout",
     "output_type": "stream",
     "text": [
      "1430\n",
      "357\n"
     ]
    }
   ],
   "source": [
    "train = full_labels.sample(frac=0.8,random_state=200) #random state is a seed value\n",
    "test = full_labels.drop(train.index)\n",
    "print(len(train))\n",
    "print(len(test))"
   ]
  },
  {
   "cell_type": "code",
   "execution_count": 30,
   "metadata": {},
   "outputs": [],
   "source": [
    "train.to_csv(OUTPUT_TRAIN, index=None)\n",
    "test.to_csv(OUTPUT_TEST, index=None)"
   ]
  },
  {
   "cell_type": "code",
   "execution_count": null,
   "metadata": {
    "collapsed": true
   },
   "outputs": [],
   "source": []
  }
 ],
 "metadata": {
  "kernelspec": {
   "display_name": "Python 2",
   "language": "python",
   "name": "python2"
  },
  "language_info": {
   "codemirror_mode": {
    "name": "ipython",
    "version": 2
   },
   "file_extension": ".py",
   "mimetype": "text/x-python",
   "name": "python",
   "nbconvert_exporter": "python",
   "pygments_lexer": "ipython2",
   "version": "2.7.18"
  },
  "widgets": {
   "state": {},
   "version": "1.1.2"
  }
 },
 "nbformat": 4,
 "nbformat_minor": 1
}
